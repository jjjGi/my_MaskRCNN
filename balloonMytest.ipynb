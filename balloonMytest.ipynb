{
  "nbformat": 4,
  "nbformat_minor": 0,
  "metadata": {
    "colab": {
      "name": "balloonMytest.ipynb",
      "provenance": [],
      "collapsed_sections": [],
      "authorship_tag": "ABX9TyOs7YIyRHGFQXxUHSIyLJUm",
      "include_colab_link": true
    },
    "kernelspec": {
      "name": "python3",
      "display_name": "Python 3"
    },
    "language_info": {
      "name": "python"
    }
  },
  "cells": [
    {
      "cell_type": "markdown",
      "metadata": {
        "id": "view-in-github",
        "colab_type": "text"
      },
      "source": [
        "<a href=\"https://colab.research.google.com/github/jjjGi/my_MaskRCNN/blob/main/balloonMytest.ipynb\" target=\"_parent\"><img src=\"https://colab.research.google.com/assets/colab-badge.svg\" alt=\"Open In Colab\"/></a>"
      ]
    },
    {
      "cell_type": "code",
      "execution_count": null,
      "metadata": {
        "id": "GMsmJYfrRssN"
      },
      "outputs": [],
      "source": [
        "# -*- coding: cp949 -*-\n",
        "#balloon_dataset.zip download . \n",
        "#keras/backend/tensorflow_backend.py 파일 수정. (import tensorflow.compat.v1,tf.disable_eager_execution() )\n",
        "#balloon.py 파일 수정. (ROOT_DIR = os.path.abspath(\"/gdrive/My Drive/Colab Notebooks/Mask_RCNN\"))\n",
        "from google.colab import drive\n",
        "import tensorflow as tf\n",
        "import os\n",
        "drive.mount('/gdrive')"
      ]
    },
    {
      "cell_type": "code",
      "source": [
        "#!git clone https://github.com/matterport/Mask_RCNN '/gdrive/My Drive/Colab Notebooks/Mask_RCNN'"
      ],
      "metadata": {
        "id": "8ux9jNvxRxyH"
      },
      "execution_count": null,
      "outputs": []
    },
    {
      "cell_type": "code",
      "source": [
        "#버전 문제 해결위한 버전다운로드\n",
        "!pip install tensorboard==1.15.0 tensorflow==1.15.0 tensorflow-estimator==1.15.1 tensorflow-gpu==1.15.2 tensorflow-gpu-estimator==2.1.0 Keras==2.2.5 Keras-Applications==1.0.8 Keras-Preprocessing==1.1.0\n",
        "%cd gdrive/MyDrive/Colab Notebooks/Mask_RCNN\n",
        "%pip install -r requirements.txt\n",
        "!python3 setup.py install\n",
        "%pip install h5py==2.10.0\n",
        "%pip install -U scikit-image==0.16.2"
      ],
      "metadata": {
        "id": "ZiwLOjEcSBMC"
      },
      "execution_count": null,
      "outputs": []
    },
    {
      "cell_type": "code",
      "source": [
        "!python3 '/gdrive/My Drive/Colab Notebooks/Mask_RCNN/samples/balloon/balloon.py' train --dataset='/gdrive/My Drive/Colab Notebooks/Mask_RCNN/samples/balloon/balloon_dataset/balloon' --weights=coco"
      ],
      "metadata": {
        "id": "Bdteqke3SQJU"
      },
      "execution_count": null,
      "outputs": []
    },
    {
      "cell_type": "code",
      "source": [
        "!python3 '/gdrive/My Drive/Colab Notebooks/Mask_RCNN/samples/balloon/balloon.py' splash --weights='/gdrive/MyDrive/logs/balloon20211223T1605/mask_rcnn_balloon_0030.h5' --image='/gdrive/My Drive/Colab Notebooks/Mask_RCNN/samples/balloon/balloon_dataset/val/16335852991_f55de7958d_k.jpg'"
      ],
      "metadata": {
        "id": "vMwMhuVxSS01"
      },
      "execution_count": null,
      "outputs": []
    }
  ]
}